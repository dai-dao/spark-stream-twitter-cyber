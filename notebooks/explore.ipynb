{
 "cells": [
  {
   "cell_type": "code",
   "execution_count": 1,
   "metadata": {},
   "outputs": [],
   "source": [
    "import pandas as pd\n",
    "from functools import reduce\n",
    "import operator\n",
    "import ast"
   ]
  },
  {
   "cell_type": "code",
   "execution_count": 2,
   "metadata": {},
   "outputs": [
    {
     "data": {
      "text/html": [
       "<div>\n",
       "<style scoped>\n",
       "    .dataframe tbody tr th:only-of-type {\n",
       "        vertical-align: middle;\n",
       "    }\n",
       "\n",
       "    .dataframe tbody tr th {\n",
       "        vertical-align: top;\n",
       "    }\n",
       "\n",
       "    .dataframe thead th {\n",
       "        text-align: right;\n",
       "    }\n",
       "</style>\n",
       "<table border=\"1\" class=\"dataframe\">\n",
       "  <thead>\n",
       "    <tr style=\"text-align: right;\">\n",
       "      <th></th>\n",
       "      <th>account</th>\n",
       "      <th>retweet</th>\n",
       "      <th>hash_tags</th>\n",
       "      <th>user_mentions</th>\n",
       "      <th>tweet</th>\n",
       "    </tr>\n",
       "  </thead>\n",
       "  <tbody>\n",
       "    <tr>\n",
       "      <th>0</th>\n",
       "      <td>rneelmani</td>\n",
       "      <td>False</td>\n",
       "      <td>['IoT', 'business', 'IoT']</td>\n",
       "      <td>['Microsoft', 'dynamicCISO', 'dynamicCISO', 'D...</td>\n",
       "      <td>@Microsoft @dynamicCISO Among #IoT adopters, 8...</td>\n",
       "    </tr>\n",
       "    <tr>\n",
       "      <th>1</th>\n",
       "      <td>rneelmani</td>\n",
       "      <td>False</td>\n",
       "      <td>['IoT', 'IoT', 'IoT', 'InternetOfThings', 'Sen...</td>\n",
       "      <td>['Microsoft', 'dynamicCISO', 'dynamicCISO']</td>\n",
       "      <td>IoT Signals key findings:\\n\\n@Microsoft announ...</td>\n",
       "    </tr>\n",
       "    <tr>\n",
       "      <th>2</th>\n",
       "      <td>rneelmani</td>\n",
       "      <td>False</td>\n",
       "      <td>['security', 'planes', 'hacking', 'aircraft', ...</td>\n",
       "      <td>['DHSgov']</td>\n",
       "      <td>The @DHSgov has issued a #security alert for s...</td>\n",
       "    </tr>\n",
       "    <tr>\n",
       "      <th>3</th>\n",
       "      <td>rneelmani</td>\n",
       "      <td>True</td>\n",
       "      <td>['ransomware']</td>\n",
       "      <td>['dynamicCISO', 'rneelmani', 'reach2ratan']</td>\n",
       "      <td>A recent #ransomware attack impacting the data...</td>\n",
       "    </tr>\n",
       "    <tr>\n",
       "      <th>4</th>\n",
       "      <td>rneelmani</td>\n",
       "      <td>True</td>\n",
       "      <td>['Ransomware']</td>\n",
       "      <td>['dynamicCISO', 'SonicWall']</td>\n",
       "      <td>@SonicWall #Ransomware Rising:\\n\\nDid you thin...</td>\n",
       "    </tr>\n",
       "  </tbody>\n",
       "</table>\n",
       "</div>"
      ],
      "text/plain": [
       "     account  retweet                                          hash_tags  \\\n",
       "0  rneelmani    False                         ['IoT', 'business', 'IoT']   \n",
       "1  rneelmani    False  ['IoT', 'IoT', 'IoT', 'InternetOfThings', 'Sen...   \n",
       "2  rneelmani    False  ['security', 'planes', 'hacking', 'aircraft', ...   \n",
       "3  rneelmani     True                                     ['ransomware']   \n",
       "4  rneelmani     True                                     ['Ransomware']   \n",
       "\n",
       "                                       user_mentions  \\\n",
       "0  ['Microsoft', 'dynamicCISO', 'dynamicCISO', 'D...   \n",
       "1        ['Microsoft', 'dynamicCISO', 'dynamicCISO']   \n",
       "2                                         ['DHSgov']   \n",
       "3        ['dynamicCISO', 'rneelmani', 'reach2ratan']   \n",
       "4                       ['dynamicCISO', 'SonicWall']   \n",
       "\n",
       "                                               tweet  \n",
       "0  @Microsoft @dynamicCISO Among #IoT adopters, 8...  \n",
       "1  IoT Signals key findings:\\n\\n@Microsoft announ...  \n",
       "2  The @DHSgov has issued a #security alert for s...  \n",
       "3  A recent #ransomware attack impacting the data...  \n",
       "4  @SonicWall #Ransomware Rising:\\n\\nDid you thin...  "
      ]
     },
     "execution_count": 2,
     "metadata": {},
     "output_type": "execute_result"
    }
   ],
   "source": [
    "df = pd.read_csv(\"../data/tweets_data.csv\")\n",
    "df.head()"
   ]
  },
  {
   "cell_type": "code",
   "execution_count": 4,
   "metadata": {},
   "outputs": [
    {
     "data": {
      "text/plain": [
       "array(['@_Manish_Sharma_ bringing to your notice that @PanasonicIndia owes us a long overdue payment of INR 4.5 Lakh which is for participation in one of our events as a sponsor. Dozens of follow ups in person and on mail could not result into anything. Its unethical and unprofessional',\n",
       "       '@s_v_g Agree. Ease of doing business is just a farce. In 8 years of entrepreneurship, I am yet to see an olive branch extended to me/business as a gesture. It’s always about how much more can we suck out of you!',\n",
       "       \"A man in #Canada recently tried to purchase #marijuana - using an ID card with @chrishemsworth's photo. Pictures of the obviously #fake ID, which put his name down as Thor Thunder Odinson, have gone viral online: https://t.co/RsO3I1ueIA #IdentityTheft #Breach @dynamicCISO\",\n",
       "       '@DynamicCIO announces the launch of its annual Enterprise #Innovation Summit 2019 (earlier knows as #CIO #Productivity Conclave). Also introducing Smart Innovator Felicitations this year. Follow the #EIS2019 for further updates: @shipramalhotra @digital_grey @muqbil_ahmar https://t.co/oqX2RCb1pY',\n",
       "       '@WIRED @rneelmani @muqbil_ahmar @NakedSecurity @Sparya @sameeranja @security10x The most threatening thing about vulnerabilities in the network protocol layer is that they can be exploited from afar, without needing a foothold from a victim, say, opening a malicious document or plugging in a tainted USB stick.\\n#cybersecurity #cybercrime @rneelmani @hacback17',\n",
       "       'Roughly 200 million devices appear to be #vulnerable; the bugs have been present in most versions of #VxWorks going back to version 6.5, released in 2006. @WIRED \\n\\n@rneelmani @muqbil_ahmar @NakedSecurity @Sparya @sameeranja @security10x \\n#cybersecurity #cybercrime #CyberAttack https://t.co/OQ3jJ4DdFc https://t.co/kPV5zb8es2',\n",
       "       '@WIRED @rneelmani @muqbil_ahmar @NakedSecurity @Sparya @sameeranja @security10x Source: https://t.co/UnOkkfMzSW @WIRED',\n",
       "       'In a global survey conducted by @Conferenceboard Board, 80% agreed that developing a more outward-looking, #customer centric culture will be a top priority in managing customers in the future. #Marketing #CMO https://t.co/nIA9xEFzz0 @rajeshkjindal @srihari_g @spalangala',\n",
       "       'According to @UNWTO since #WorldWar2, the number of #tourist visits has increased 56 times, up from just 25 million in 1950 to 1.4 billion in 2018.  https://t.co/tY6Kr9irPt #Tourism',\n",
       "       'The @LAPDHQ has warned that a #hacker is claiming to be in possession of the personal information of roughly 2,500 “officers, trainees, and recruits,” as well as 17,500 other LAPD applicants, NBC Los Angeles reported: https://t.co/ihOQ6SwNuF @Gizmodo @dynamicCISO'],\n",
       "      dtype=object)"
      ]
     },
     "execution_count": 4,
     "metadata": {},
     "output_type": "execute_result"
    }
   ],
   "source": [
    "df[\"tweet\"].values[10:20]"
   ]
  },
  {
   "cell_type": "code",
   "execution_count": 3,
   "metadata": {
    "scrolled": true
   },
   "outputs": [
    {
     "data": {
      "text/plain": [
       "(2200, 5)"
      ]
     },
     "execution_count": 3,
     "metadata": {},
     "output_type": "execute_result"
    }
   ],
   "source": [
    "df.shape"
   ]
  },
  {
   "cell_type": "code",
   "execution_count": 5,
   "metadata": {},
   "outputs": [],
   "source": [
    "def clean(token):\n",
    "    out = token.strip().replace('@', '').replace('#', '').replace('.', '').replace(',', '')\\\n",
    "                .replace('?', '').replace('!', '').replace(':', '').replace('\\n', ' ')\\\n",
    "                .replace('%', ' percent ').replace('-', ' hyphen ')\\\n",
    "                .lower()\n",
    "    out = out.split(' ')\n",
    "    if '' in out:\n",
    "        out.remove('')\n",
    "    return out\n",
    "\n",
    "\n",
    "def preprocess_tweet(tweet):\n",
    "    tokens = tweet.split(' ')\n",
    "    tokens1 = [clean(t) for t in tokens if 'https' not in t]\n",
    "    try:\n",
    "        tokens2 = reduce(operator.concat, tokens1)\n",
    "    except:\n",
    "        return tokens1\n",
    "    return ' '.join(tokens2)\n",
    "\n",
    "\n",
    "def preprocess_entities(entities):\n",
    "    ents = ast.literal_eval(entities)\n",
    "    out = list(set(ents))\n",
    "    return '|'.join(out)"
   ]
  },
  {
   "cell_type": "code",
   "execution_count": 6,
   "metadata": {},
   "outputs": [
    {
     "data": {
      "text/html": [
       "<div>\n",
       "<style scoped>\n",
       "    .dataframe tbody tr th:only-of-type {\n",
       "        vertical-align: middle;\n",
       "    }\n",
       "\n",
       "    .dataframe tbody tr th {\n",
       "        vertical-align: top;\n",
       "    }\n",
       "\n",
       "    .dataframe thead th {\n",
       "        text-align: right;\n",
       "    }\n",
       "</style>\n",
       "<table border=\"1\" class=\"dataframe\">\n",
       "  <thead>\n",
       "    <tr style=\"text-align: right;\">\n",
       "      <th></th>\n",
       "      <th>account</th>\n",
       "      <th>retweet</th>\n",
       "      <th>hash_tags</th>\n",
       "      <th>user_mentions</th>\n",
       "      <th>tweet</th>\n",
       "    </tr>\n",
       "  </thead>\n",
       "  <tbody>\n",
       "    <tr>\n",
       "      <th>0</th>\n",
       "      <td>rneelmani</td>\n",
       "      <td>False</td>\n",
       "      <td>IoT|business</td>\n",
       "      <td>dynamicCISO|Microsoft|DynamicCIO</td>\n",
       "      <td>microsoft dynamicciso among iot adopters 88 pe...</td>\n",
       "    </tr>\n",
       "    <tr>\n",
       "      <th>1</th>\n",
       "      <td>rneelmani</td>\n",
       "      <td>False</td>\n",
       "      <td>InternetOfThings|IoT|Sensors</td>\n",
       "      <td>dynamicCISO|Microsoft</td>\n",
       "      <td>iot signals key findings microsoft announced i...</td>\n",
       "    </tr>\n",
       "    <tr>\n",
       "      <th>2</th>\n",
       "      <td>rneelmani</td>\n",
       "      <td>False</td>\n",
       "      <td>planes|criticalinfrastructure|hacking|aircraft...</td>\n",
       "      <td>DHSgov</td>\n",
       "      <td>the dhsgov has issued a security alert for sma...</td>\n",
       "    </tr>\n",
       "    <tr>\n",
       "      <th>3</th>\n",
       "      <td>rneelmani</td>\n",
       "      <td>True</td>\n",
       "      <td>ransomware</td>\n",
       "      <td>dynamicCISO|reach2ratan|rneelmani</td>\n",
       "      <td>a recent ransomware attack impacting the data ...</td>\n",
       "    </tr>\n",
       "    <tr>\n",
       "      <th>4</th>\n",
       "      <td>rneelmani</td>\n",
       "      <td>True</td>\n",
       "      <td>Ransomware</td>\n",
       "      <td>dynamicCISO|SonicWall</td>\n",
       "      <td>sonicwall ransomware rising did you think rans...</td>\n",
       "    </tr>\n",
       "  </tbody>\n",
       "</table>\n",
       "</div>"
      ],
      "text/plain": [
       "     account  retweet                                          hash_tags  \\\n",
       "0  rneelmani    False                                       IoT|business   \n",
       "1  rneelmani    False                       InternetOfThings|IoT|Sensors   \n",
       "2  rneelmani    False  planes|criticalinfrastructure|hacking|aircraft...   \n",
       "3  rneelmani     True                                         ransomware   \n",
       "4  rneelmani     True                                         Ransomware   \n",
       "\n",
       "                       user_mentions  \\\n",
       "0   dynamicCISO|Microsoft|DynamicCIO   \n",
       "1              dynamicCISO|Microsoft   \n",
       "2                             DHSgov   \n",
       "3  dynamicCISO|reach2ratan|rneelmani   \n",
       "4              dynamicCISO|SonicWall   \n",
       "\n",
       "                                               tweet  \n",
       "0  microsoft dynamicciso among iot adopters 88 pe...  \n",
       "1  iot signals key findings microsoft announced i...  \n",
       "2  the dhsgov has issued a security alert for sma...  \n",
       "3  a recent ransomware attack impacting the data ...  \n",
       "4  sonicwall ransomware rising did you think rans...  "
      ]
     },
     "execution_count": 6,
     "metadata": {},
     "output_type": "execute_result"
    }
   ],
   "source": [
    "df[\"tweet\"] = df[\"tweet\"].apply(preprocess_tweet)\n",
    "df[\"hash_tags\"] = df[\"hash_tags\"].apply(preprocess_entities)\n",
    "df[\"user_mentions\"] = df[\"user_mentions\"].apply(preprocess_entities)\n",
    "df.head()"
   ]
  },
  {
   "cell_type": "code",
   "execution_count": 7,
   "metadata": {},
   "outputs": [
    {
     "data": {
      "text/plain": [
       "(2200, 5)"
      ]
     },
     "execution_count": 7,
     "metadata": {},
     "output_type": "execute_result"
    }
   ],
   "source": [
    "df.shape"
   ]
  },
  {
   "cell_type": "code",
   "execution_count": 8,
   "metadata": {},
   "outputs": [],
   "source": [
    "df.to_csv(\"tweet_processed.csv\", index=False)"
   ]
  },
  {
   "cell_type": "code",
   "execution_count": null,
   "metadata": {},
   "outputs": [],
   "source": []
  }
 ],
 "metadata": {
  "kernelspec": {
   "display_name": "ds",
   "language": "python",
   "name": "ds"
  },
  "language_info": {
   "codemirror_mode": {
    "name": "ipython",
    "version": 3
   },
   "file_extension": ".py",
   "mimetype": "text/x-python",
   "name": "python",
   "nbconvert_exporter": "python",
   "pygments_lexer": "ipython3",
   "version": "3.7.0"
  }
 },
 "nbformat": 4,
 "nbformat_minor": 2
}

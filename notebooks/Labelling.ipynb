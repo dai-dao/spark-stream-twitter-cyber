{
 "cells": [
  {
   "cell_type": "code",
   "execution_count": 1,
   "metadata": {},
   "outputs": [],
   "source": [
    "import pandas as pd"
   ]
  },
  {
   "cell_type": "code",
   "execution_count": 2,
   "metadata": {},
   "outputs": [
    {
     "data": {
      "text/html": [
       "<div>\n",
       "<style scoped>\n",
       "    .dataframe tbody tr th:only-of-type {\n",
       "        vertical-align: middle;\n",
       "    }\n",
       "\n",
       "    .dataframe tbody tr th {\n",
       "        vertical-align: top;\n",
       "    }\n",
       "\n",
       "    .dataframe thead th {\n",
       "        text-align: right;\n",
       "    }\n",
       "</style>\n",
       "<table border=\"1\" class=\"dataframe\">\n",
       "  <thead>\n",
       "    <tr style=\"text-align: right;\">\n",
       "      <th></th>\n",
       "      <th>account</th>\n",
       "      <th>retweet</th>\n",
       "      <th>hash_tags</th>\n",
       "      <th>user_mentions</th>\n",
       "      <th>tweet</th>\n",
       "    </tr>\n",
       "  </thead>\n",
       "  <tbody>\n",
       "    <tr>\n",
       "      <th>0</th>\n",
       "      <td>rneelmani</td>\n",
       "      <td>False</td>\n",
       "      <td>IoT|business</td>\n",
       "      <td>dynamicCISO|Microsoft|DynamicCIO</td>\n",
       "      <td>microsoft dynamicciso among iot adopters 88 pe...</td>\n",
       "    </tr>\n",
       "    <tr>\n",
       "      <th>1</th>\n",
       "      <td>rneelmani</td>\n",
       "      <td>False</td>\n",
       "      <td>InternetOfThings|IoT|Sensors</td>\n",
       "      <td>dynamicCISO|Microsoft</td>\n",
       "      <td>iot signals key findings microsoft announced i...</td>\n",
       "    </tr>\n",
       "    <tr>\n",
       "      <th>2</th>\n",
       "      <td>rneelmani</td>\n",
       "      <td>False</td>\n",
       "      <td>planes|criticalinfrastructure|hacking|aircraft...</td>\n",
       "      <td>DHSgov</td>\n",
       "      <td>the dhsgov has issued a security alert for sma...</td>\n",
       "    </tr>\n",
       "    <tr>\n",
       "      <th>3</th>\n",
       "      <td>rneelmani</td>\n",
       "      <td>True</td>\n",
       "      <td>ransomware</td>\n",
       "      <td>dynamicCISO|reach2ratan|rneelmani</td>\n",
       "      <td>a recent ransomware attack impacting the data ...</td>\n",
       "    </tr>\n",
       "    <tr>\n",
       "      <th>4</th>\n",
       "      <td>rneelmani</td>\n",
       "      <td>True</td>\n",
       "      <td>Ransomware</td>\n",
       "      <td>dynamicCISO|SonicWall</td>\n",
       "      <td>sonicwall ransomware rising did you think rans...</td>\n",
       "    </tr>\n",
       "  </tbody>\n",
       "</table>\n",
       "</div>"
      ],
      "text/plain": [
       "     account  retweet                                          hash_tags  \\\n",
       "0  rneelmani    False                                       IoT|business   \n",
       "1  rneelmani    False                       InternetOfThings|IoT|Sensors   \n",
       "2  rneelmani    False  planes|criticalinfrastructure|hacking|aircraft...   \n",
       "3  rneelmani     True                                         ransomware   \n",
       "4  rneelmani     True                                         Ransomware   \n",
       "\n",
       "                       user_mentions  \\\n",
       "0   dynamicCISO|Microsoft|DynamicCIO   \n",
       "1              dynamicCISO|Microsoft   \n",
       "2                             DHSgov   \n",
       "3  dynamicCISO|reach2ratan|rneelmani   \n",
       "4              dynamicCISO|SonicWall   \n",
       "\n",
       "                                               tweet  \n",
       "0  microsoft dynamicciso among iot adopters 88 pe...  \n",
       "1  iot signals key findings microsoft announced i...  \n",
       "2  the dhsgov has issued a security alert for sma...  \n",
       "3  a recent ransomware attack impacting the data ...  \n",
       "4  sonicwall ransomware rising did you think rans...  "
      ]
     },
     "execution_count": 2,
     "metadata": {},
     "output_type": "execute_result"
    }
   ],
   "source": [
    "df = pd.read_csv(\"tweet_processed.csv\")\n",
    "df.head()"
   ]
  },
  {
   "cell_type": "code",
   "execution_count": 4,
   "metadata": {},
   "outputs": [
    {
     "data": {
      "text/plain": [
       "['cybersecurity',\n",
       " 'security',\n",
       " 'alert',\n",
       " 'alerts',\n",
       " 'hacking',\n",
       " 'breach',\n",
       " 'breaches',\n",
       " 'breached',\n",
       " 'exploits',\n",
       " 'exploited',\n",
       " 'attack',\n",
       " 'attacked',\n",
       " 'attacks',\n",
       " 'privacy',\n",
       " 'patch',\n",
       " 'patches',\n",
       " 'vulnerabilities',\n",
       " 'phishing',\n",
       " 'malware',\n",
       " 'ransomware',\n",
       " 'theft',\n",
       " 'password',\n",
       " 'exposed',\n",
       " 'expose']"
      ]
     },
     "execution_count": 4,
     "metadata": {},
     "output_type": "execute_result"
    }
   ],
   "source": [
    "f = open(\"keywords.txt\", 'r')\n",
    "fl = f.readlines()\n",
    "keywords = [l.strip().lower() for l in fl]\n"
   ]
  },
  {
   "cell_type": "code",
   "execution_count": 6,
   "metadata": {},
   "outputs": [],
   "source": [
    "def contain_keyword(tweet):\n",
    "    for word in keywords:\n",
    "        if word in tweet:\n",
    "            return True\n",
    "    return False"
   ]
  },
  {
   "cell_type": "code",
   "execution_count": 7,
   "metadata": {
    "scrolled": true
   },
   "outputs": [
    {
     "data": {
      "text/html": [
       "<div>\n",
       "<style scoped>\n",
       "    .dataframe tbody tr th:only-of-type {\n",
       "        vertical-align: middle;\n",
       "    }\n",
       "\n",
       "    .dataframe tbody tr th {\n",
       "        vertical-align: top;\n",
       "    }\n",
       "\n",
       "    .dataframe thead th {\n",
       "        text-align: right;\n",
       "    }\n",
       "</style>\n",
       "<table border=\"1\" class=\"dataframe\">\n",
       "  <thead>\n",
       "    <tr style=\"text-align: right;\">\n",
       "      <th></th>\n",
       "      <th>account</th>\n",
       "      <th>retweet</th>\n",
       "      <th>hash_tags</th>\n",
       "      <th>user_mentions</th>\n",
       "      <th>tweet</th>\n",
       "      <th>contain_keywords</th>\n",
       "    </tr>\n",
       "  </thead>\n",
       "  <tbody>\n",
       "    <tr>\n",
       "      <th>0</th>\n",
       "      <td>rneelmani</td>\n",
       "      <td>False</td>\n",
       "      <td>IoT|business</td>\n",
       "      <td>dynamicCISO|Microsoft|DynamicCIO</td>\n",
       "      <td>microsoft dynamicciso among iot adopters 88 pe...</td>\n",
       "      <td>True</td>\n",
       "    </tr>\n",
       "    <tr>\n",
       "      <th>1</th>\n",
       "      <td>rneelmani</td>\n",
       "      <td>False</td>\n",
       "      <td>InternetOfThings|IoT|Sensors</td>\n",
       "      <td>dynamicCISO|Microsoft</td>\n",
       "      <td>iot signals key findings microsoft announced i...</td>\n",
       "      <td>False</td>\n",
       "    </tr>\n",
       "    <tr>\n",
       "      <th>2</th>\n",
       "      <td>rneelmani</td>\n",
       "      <td>False</td>\n",
       "      <td>planes|criticalinfrastructure|hacking|aircraft...</td>\n",
       "      <td>DHSgov</td>\n",
       "      <td>the dhsgov has issued a security alert for sma...</td>\n",
       "      <td>True</td>\n",
       "    </tr>\n",
       "    <tr>\n",
       "      <th>3</th>\n",
       "      <td>rneelmani</td>\n",
       "      <td>True</td>\n",
       "      <td>ransomware</td>\n",
       "      <td>dynamicCISO|reach2ratan|rneelmani</td>\n",
       "      <td>a recent ransomware attack impacting the data ...</td>\n",
       "      <td>True</td>\n",
       "    </tr>\n",
       "    <tr>\n",
       "      <th>4</th>\n",
       "      <td>rneelmani</td>\n",
       "      <td>True</td>\n",
       "      <td>Ransomware</td>\n",
       "      <td>dynamicCISO|SonicWall</td>\n",
       "      <td>sonicwall ransomware rising did you think rans...</td>\n",
       "      <td>True</td>\n",
       "    </tr>\n",
       "  </tbody>\n",
       "</table>\n",
       "</div>"
      ],
      "text/plain": [
       "     account  retweet                                          hash_tags  \\\n",
       "0  rneelmani    False                                       IoT|business   \n",
       "1  rneelmani    False                       InternetOfThings|IoT|Sensors   \n",
       "2  rneelmani    False  planes|criticalinfrastructure|hacking|aircraft...   \n",
       "3  rneelmani     True                                         ransomware   \n",
       "4  rneelmani     True                                         Ransomware   \n",
       "\n",
       "                       user_mentions  \\\n",
       "0   dynamicCISO|Microsoft|DynamicCIO   \n",
       "1              dynamicCISO|Microsoft   \n",
       "2                             DHSgov   \n",
       "3  dynamicCISO|reach2ratan|rneelmani   \n",
       "4              dynamicCISO|SonicWall   \n",
       "\n",
       "                                               tweet  contain_keywords  \n",
       "0  microsoft dynamicciso among iot adopters 88 pe...              True  \n",
       "1  iot signals key findings microsoft announced i...             False  \n",
       "2  the dhsgov has issued a security alert for sma...              True  \n",
       "3  a recent ransomware attack impacting the data ...              True  \n",
       "4  sonicwall ransomware rising did you think rans...              True  "
      ]
     },
     "execution_count": 7,
     "metadata": {},
     "output_type": "execute_result"
    }
   ],
   "source": [
    "df['contain_keywords'] = [False for i in range(df.shape[0])]\n",
    "df['contain_keywords'] = df['tweet'].apply(contain_keyword)\n",
    "df.head()"
   ]
  },
  {
   "cell_type": "code",
   "execution_count": 11,
   "metadata": {},
   "outputs": [
    {
     "data": {
      "text/plain": [
       "(1165, 6)"
      ]
     },
     "execution_count": 11,
     "metadata": {},
     "output_type": "execute_result"
    }
   ],
   "source": [
    "df[df['contain_keywords'] == True].shape"
   ]
  },
  {
   "cell_type": "code",
   "execution_count": 16,
   "metadata": {
    "scrolled": false
   },
   "outputs": [],
   "source": [
    "fil_df = df[df['contain_keywords'] == True]\n",
    "fil_df.to_csv(\"tweet_filtered.csv\", index=False)"
   ]
  },
  {
   "cell_type": "code",
   "execution_count": null,
   "metadata": {},
   "outputs": [],
   "source": []
  }
 ],
 "metadata": {
  "kernelspec": {
   "display_name": "ds",
   "language": "python",
   "name": "ds"
  },
  "language_info": {
   "codemirror_mode": {
    "name": "ipython",
    "version": 3
   },
   "file_extension": ".py",
   "mimetype": "text/x-python",
   "name": "python",
   "nbconvert_exporter": "python",
   "pygments_lexer": "ipython3",
   "version": "3.7.0"
  }
 },
 "nbformat": 4,
 "nbformat_minor": 2
}
